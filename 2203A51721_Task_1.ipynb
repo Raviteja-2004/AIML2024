{
  "nbformat": 4,
  "nbformat_minor": 0,
  "metadata": {
    "colab": {
      "provenance": []
    },
    "kernelspec": {
      "name": "python3",
      "display_name": "Python 3"
    },
    "language_info": {
      "name": "python"
    }
  },
  "cells": [
    {
      "cell_type": "code",
      "execution_count": null,
      "metadata": {
        "colab": {
          "base_uri": "https://localhost:8080/"
        },
        "id": "4RqDTttmvQFT",
        "outputId": "af86dd69-354b-409b-90cc-3508cecb9eb3"
      },
      "outputs": [
        {
          "output_type": "execute_result",
          "data": {
            "text/plain": [
              "['apple', 'banana', 'cherry']"
            ]
          },
          "metadata": {},
          "execution_count": 1
        }
      ],
      "source": [
        "import numpy as np\n",
        "mylist = [\"apple\", \"banana\", \"cherry\"]\n",
        "mylist"
      ]
    },
    {
      "cell_type": "code",
      "source": [
        "import numpy as np\n",
        "thislist = [\"apple\", \"banana\", \"cherry\", \"orange\", \"kiwi\", \"melon\", \"mango\"]\n",
        "thislist[2:5]"
      ],
      "metadata": {
        "colab": {
          "base_uri": "https://localhost:8080/"
        },
        "id": "_CNFb__7yUFA",
        "outputId": "9833c0b7-be0d-4233-cd03-ec828087f02f"
      },
      "execution_count": null,
      "outputs": [
        {
          "output_type": "execute_result",
          "data": {
            "text/plain": [
              "['cherry', 'orange', 'kiwi']"
            ]
          },
          "metadata": {},
          "execution_count": 4
        }
      ]
    },
    {
      "cell_type": "code",
      "source": [
        "import numpy as np\n",
        "thislist = [\"apple\", \"banana\", \"cherry\", \"orange\", \"kiwi\", \"melon\", \"mango\"]\n",
        "thislist[:4]"
      ],
      "metadata": {
        "colab": {
          "base_uri": "https://localhost:8080/"
        },
        "id": "bEcpH57sywlJ",
        "outputId": "0bff2f78-d686-42bd-e329-6ecedb794a44"
      },
      "execution_count": 32,
      "outputs": [
        {
          "output_type": "execute_result",
          "data": {
            "text/plain": [
              "['apple', 'banana', 'cherry', 'orange']"
            ]
          },
          "metadata": {},
          "execution_count": 32
        }
      ]
    },
    {
      "cell_type": "code",
      "source": [
        "import numpy as np\n",
        "thislist = [\"apple\", \"banana\", \"cherry\", \"orange\", \"kiwi\", \"melon\", \"mango\"]\n",
        "thislist[-4:-1]"
      ],
      "metadata": {
        "colab": {
          "base_uri": "https://localhost:8080/"
        },
        "id": "YKwVtRBny73B",
        "outputId": "cf18a075-61aa-4d25-a0df-5c81c808e28c"
      },
      "execution_count": null,
      "outputs": [
        {
          "output_type": "execute_result",
          "data": {
            "text/plain": [
              "['orange', 'kiwi', 'melon']"
            ]
          },
          "metadata": {},
          "execution_count": 6
        }
      ]
    },
    {
      "cell_type": "code",
      "source": [
        "import numpy as np\n",
        "thislist = [\"apple\", \"banana\", \"cherry\"]\n",
        "thislist[1] = \"blackcurrant\"\n",
        "thislist"
      ],
      "metadata": {
        "colab": {
          "base_uri": "https://localhost:8080/"
        },
        "id": "odIBpX7izCtM",
        "outputId": "1ee8565c-e275-4a14-fa23-1ad4121c1792"
      },
      "execution_count": null,
      "outputs": [
        {
          "output_type": "execute_result",
          "data": {
            "text/plain": [
              "['apple', 'blackcurrant', 'cherry']"
            ]
          },
          "metadata": {},
          "execution_count": 7
        }
      ]
    },
    {
      "cell_type": "code",
      "source": [
        "import numpy as np\n",
        "thislist = [\"apple\", \"banana\", \"cherry\", \"orange\", \"kiwi\", \"mango\"]\n",
        "thislist[1:3] = [\"blackcurrant\", \"watermelon\"]\n",
        "thislist"
      ],
      "metadata": {
        "colab": {
          "base_uri": "https://localhost:8080/"
        },
        "id": "IuOPinKLzNQN",
        "outputId": "41c9c261-de4d-4de2-84c8-babaff68dd3f"
      },
      "execution_count": null,
      "outputs": [
        {
          "output_type": "execute_result",
          "data": {
            "text/plain": [
              "['apple', 'blackcurrant', 'watermelon', 'orange', 'kiwi', 'mango']"
            ]
          },
          "metadata": {},
          "execution_count": 8
        }
      ]
    },
    {
      "cell_type": "code",
      "source": [
        "import numpy as np\n",
        "thislist = [\"apple\", \"banana\", \"cherry\"]\n",
        "thislist.insert(2, \"watermelon\")\n",
        "thislist"
      ],
      "metadata": {
        "colab": {
          "base_uri": "https://localhost:8080/"
        },
        "id": "nfTTU-NWzTaF",
        "outputId": "272b3f7d-76fb-440e-ea7d-93a892b1d290"
      },
      "execution_count": null,
      "outputs": [
        {
          "output_type": "execute_result",
          "data": {
            "text/plain": [
              "['apple', 'banana', 'watermelon', 'cherry']"
            ]
          },
          "metadata": {},
          "execution_count": 9
        }
      ]
    },
    {
      "cell_type": "code",
      "source": [
        "import numpy as np\n",
        "thislist = [\"apple\", \"banana\", \"cherry\"]\n",
        "thislist.append(\"orange\")\n",
        "thislist"
      ],
      "metadata": {
        "colab": {
          "base_uri": "https://localhost:8080/"
        },
        "id": "Q6PN6g1ezZ8w",
        "outputId": "9097f94b-0cf9-40bb-ceaa-014ef3f201c9"
      },
      "execution_count": null,
      "outputs": [
        {
          "output_type": "execute_result",
          "data": {
            "text/plain": [
              "['apple', 'banana', 'cherry', 'orange']"
            ]
          },
          "metadata": {},
          "execution_count": 10
        }
      ]
    },
    {
      "cell_type": "code",
      "source": [
        "import numpy as np\n",
        "thislist = [\"apple\", \"banana\", \"cherry\"]\n",
        "tropical = [\"mango\", \"pineapple\", \"papaya\"]\n",
        "thislist.extend(tropical)\n",
        "thislist"
      ],
      "metadata": {
        "colab": {
          "base_uri": "https://localhost:8080/"
        },
        "id": "625QsEAMzp57",
        "outputId": "c674512a-0add-403b-9d1f-deca0eba204c"
      },
      "execution_count": null,
      "outputs": [
        {
          "output_type": "execute_result",
          "data": {
            "text/plain": [
              "['apple', 'banana', 'cherry', 'mango', 'pineapple', 'papaya']"
            ]
          },
          "metadata": {},
          "execution_count": 11
        }
      ]
    },
    {
      "cell_type": "code",
      "source": [
        "import numpy as np\n",
        "thislist = [\"apple\", \"banana\", \"cherry\"]\n",
        "thislist.remove(\"banana\")\n",
        "thislist"
      ],
      "metadata": {
        "colab": {
          "base_uri": "https://localhost:8080/"
        },
        "id": "sWqZDMAzzvnr",
        "outputId": "72dabe09-e10d-40b2-b8e9-e345b8dcc159"
      },
      "execution_count": null,
      "outputs": [
        {
          "output_type": "execute_result",
          "data": {
            "text/plain": [
              "['apple', 'cherry']"
            ]
          },
          "metadata": {},
          "execution_count": 12
        }
      ]
    },
    {
      "cell_type": "code",
      "source": [
        "import numpy as np\n",
        "thislist = [\"apple\", \"banana\", \"cherry\"]\n",
        "thislist.pop(1)\n",
        "thislist"
      ],
      "metadata": {
        "colab": {
          "base_uri": "https://localhost:8080/"
        },
        "id": "p61EZ3ED0DaU",
        "outputId": "23da7775-3b93-4f75-d23c-f6729edc54d0"
      },
      "execution_count": null,
      "outputs": [
        {
          "output_type": "execute_result",
          "data": {
            "text/plain": [
              "['apple', 'cherry']"
            ]
          },
          "metadata": {},
          "execution_count": 13
        }
      ]
    },
    {
      "cell_type": "code",
      "source": [
        "import numpy as np\n",
        "thislist = [\"apple\", \"banana\", \"cherry\"]\n",
        "thislist.pop()\n",
        "print(thislist)"
      ],
      "metadata": {
        "colab": {
          "base_uri": "https://localhost:8080/"
        },
        "id": "rIqQ446Z0MGx",
        "outputId": "94c97f08-e3ec-45c6-f584-9a3bda4448ab"
      },
      "execution_count": null,
      "outputs": [
        {
          "output_type": "stream",
          "name": "stdout",
          "text": [
            "['apple', 'banana']\n"
          ]
        }
      ]
    },
    {
      "cell_type": "code",
      "source": [
        "import numpy as np\n",
        "thislist = [\"apple\", \"banana\", \"cherry\"]\n",
        "del thislist[0]\n",
        "thislist"
      ],
      "metadata": {
        "colab": {
          "base_uri": "https://localhost:8080/"
        },
        "id": "NOFIiEqL0TFj",
        "outputId": "46aded4a-c519-45a9-a19f-0938f8530580"
      },
      "execution_count": null,
      "outputs": [
        {
          "output_type": "execute_result",
          "data": {
            "text/plain": [
              "['banana', 'cherry']"
            ]
          },
          "metadata": {},
          "execution_count": 15
        }
      ]
    },
    {
      "cell_type": "code",
      "source": [
        "import numpy as np\n",
        "thislist = [\"apple\", \"banana\", \"cherry\"]\n",
        "thislist.clear()\n",
        "thislist"
      ],
      "metadata": {
        "colab": {
          "base_uri": "https://localhost:8080/"
        },
        "id": "cyl_R9Pg0ZPt",
        "outputId": "f672cfe1-0577-4bde-de52-143d3ca050d0"
      },
      "execution_count": null,
      "outputs": [
        {
          "output_type": "execute_result",
          "data": {
            "text/plain": [
              "[]"
            ]
          },
          "metadata": {},
          "execution_count": 16
        }
      ]
    },
    {
      "cell_type": "code",
      "source": [
        "import numpy as np\n",
        "thislist = [\"apple\", \"banana\", \"cherry\"]\n",
        "for x in thislist:\n",
        "  x"
      ],
      "metadata": {
        "id": "M9mzH-TD0gAL"
      },
      "execution_count": null,
      "outputs": []
    },
    {
      "cell_type": "code",
      "source": [
        "import numpy as np\n",
        "thislist = [\"apple\", \"banana\", \"cherry\"]\n",
        "for i in range(len(thislist)):\n",
        "  thislist[i]"
      ],
      "metadata": {
        "id": "nxS2AsaD0zoY"
      },
      "execution_count": null,
      "outputs": []
    },
    {
      "cell_type": "code",
      "source": [
        "import numpy as np\n",
        "thislist = [100, 50, 65, 82, 23]\n",
        "thislist.sort()"
      ],
      "metadata": {
        "id": "sc5gVp_X4AO6"
      },
      "execution_count": 24,
      "outputs": []
    },
    {
      "cell_type": "code",
      "source": [
        "import numpy as np\n",
        "thislist = [\"banana\", \"Orange\", \"Kiwi\", \"cherry\"]\n",
        "thislist.sort(key = str.lower)\n",
        "thislist"
      ],
      "metadata": {
        "colab": {
          "base_uri": "https://localhost:8080/"
        },
        "id": "rphZ3_Xl4Qyo",
        "outputId": "9506229c-0d94-44cb-95d2-f671e7ca07fd"
      },
      "execution_count": 25,
      "outputs": [
        {
          "output_type": "execute_result",
          "data": {
            "text/plain": [
              "['banana', 'cherry', 'Kiwi', 'Orange']"
            ]
          },
          "metadata": {},
          "execution_count": 25
        }
      ]
    },
    {
      "cell_type": "code",
      "source": [
        "import numpy as np\n",
        "thislist = [\"banana\", \"Orange\", \"Kiwi\", \"cherry\"]\n",
        "thislist.reverse()\n",
        "thislist"
      ],
      "metadata": {
        "colab": {
          "base_uri": "https://localhost:8080/"
        },
        "id": "OW41aQB74i3n",
        "outputId": "029bd89f-7082-4376-90fe-c66c38e1b664"
      },
      "execution_count": 26,
      "outputs": [
        {
          "output_type": "execute_result",
          "data": {
            "text/plain": [
              "['cherry', 'Kiwi', 'Orange', 'banana']"
            ]
          },
          "metadata": {},
          "execution_count": 26
        }
      ]
    },
    {
      "cell_type": "code",
      "source": [
        "import numpy as np\n",
        "thislist = [\"apple\", \"banana\", \"cherry\"]\n",
        "mylist = thislist.copy()\n",
        "mylist"
      ],
      "metadata": {
        "colab": {
          "base_uri": "https://localhost:8080/"
        },
        "id": "iiLLx_hU4nsE",
        "outputId": "2df8215f-3f75-49f2-aab2-662d1213796d"
      },
      "execution_count": 27,
      "outputs": [
        {
          "output_type": "execute_result",
          "data": {
            "text/plain": [
              "['apple', 'banana', 'cherry']"
            ]
          },
          "metadata": {},
          "execution_count": 27
        }
      ]
    },
    {
      "cell_type": "code",
      "source": [
        "import numpy as np\n",
        "list1 = [\"a\", \"b\", \"c\"]\n",
        "list2 = [1, 2, 3]\n",
        "\n",
        "list3 = list1 + list2\n",
        "list3"
      ],
      "metadata": {
        "colab": {
          "base_uri": "https://localhost:8080/"
        },
        "id": "zjRBxXNf44Yt",
        "outputId": "7b00d0ff-34ad-4d1a-da3a-ca0c8a713147"
      },
      "execution_count": 28,
      "outputs": [
        {
          "output_type": "execute_result",
          "data": {
            "text/plain": [
              "['a', 'b', 'c', 1, 2, 3]"
            ]
          },
          "metadata": {},
          "execution_count": 28
        }
      ]
    },
    {
      "cell_type": "code",
      "source": [
        "import numpy as np\n",
        "list1 = [\"a\", \"b\" , \"c\"]\n",
        "list2 = [1, 2, 3]\n",
        "\n",
        "for x in list2:\n",
        "  list1.append(x)\n",
        "\n",
        "list1"
      ],
      "metadata": {
        "colab": {
          "base_uri": "https://localhost:8080/"
        },
        "id": "T_1K0uBD5BYc",
        "outputId": "bd78509f-ce32-4fa9-a3ff-0ab9bc0180e2"
      },
      "execution_count": 29,
      "outputs": [
        {
          "output_type": "execute_result",
          "data": {
            "text/plain": [
              "['a', 'b', 'c', 1, 2, 3]"
            ]
          },
          "metadata": {},
          "execution_count": 29
        }
      ]
    },
    {
      "cell_type": "code",
      "source": [
        "lst1=[1,2,3]\n",
        "lst2=[4,5,6]\n",
        "array1 = np.array(lst1)\n",
        "array2 = np.array(lst2)\n",
        "print(\"array2 multiplied by array1: \",array1*array2)\n",
        "print(\"array2 divided by array1: \",array2/array1)\n",
        "print(\"array2 raised to the power of array1: \",array2**array1)\n",
        "type(array1)"
      ],
      "metadata": {
        "colab": {
          "base_uri": "https://localhost:8080/"
        },
        "id": "xnQ4MGb45NtB",
        "outputId": "e82f56e0-54e2-431f-cd47-eae2568e17e7"
      },
      "execution_count": 30,
      "outputs": [
        {
          "output_type": "stream",
          "name": "stdout",
          "text": [
            "array2 multiplied by array1:  [ 4 10 18]\n",
            "array2 divided by array1:  [4.  2.5 2. ]\n",
            "array2 raised to the power of array1:  [  4  25 216]\n"
          ]
        },
        {
          "output_type": "execute_result",
          "data": {
            "text/plain": [
              "numpy.ndarray"
            ]
          },
          "metadata": {},
          "execution_count": 30
        }
      ]
    },
    {
      "cell_type": "code",
      "source": [
        "print(\"Sine: \",np.sin(array1))\n",
        "print(\"Natural logarithm: \",np.log(array1))\n",
        "print(\"Base-10 logarithm: \",np.log10(array1))\n",
        "print(\"Base-2 logarithm: \",np.log2(array1))\n",
        "print(\"Exponential: \",np.exp(array1))"
      ],
      "metadata": {
        "colab": {
          "base_uri": "https://localhost:8080/"
        },
        "id": "46qfjvQQ5m-D",
        "outputId": "2e568792-a2a5-41ff-9355-555dcc08cfdb"
      },
      "execution_count": 31,
      "outputs": [
        {
          "output_type": "stream",
          "name": "stdout",
          "text": [
            "Sine:  [0.84147098 0.90929743 0.14112001]\n",
            "Natural logarithm:  [0.         0.69314718 1.09861229]\n",
            "Base-10 logarithm:  [0.         0.30103    0.47712125]\n",
            "Base-2 logarithm:  [0.        1.        1.5849625]\n",
            "Exponential:  [ 2.71828183  7.3890561  20.08553692]\n"
          ]
        }
      ]
    }
  ]
}